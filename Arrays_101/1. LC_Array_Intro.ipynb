{
 "cells": [
  {
   "cell_type": "markdown",
   "id": "211795d5",
   "metadata": {},
   "source": [
    "### Max Consecutive Ones In Array"
   ]
  },
  {
   "cell_type": "code",
   "execution_count": 1,
   "id": "bc862e60",
   "metadata": {},
   "outputs": [],
   "source": [
    "import numpy as np"
   ]
  },
  {
   "cell_type": "code",
   "execution_count": 36,
   "id": "07e5dc76",
   "metadata": {},
   "outputs": [],
   "source": [
    "num1 = [1,1,0,1,1,1]\n",
    "num2 = [1,0,1,1,0,1]\n",
    "num3 = [0,0,0,0,0,0]"
   ]
  },
  {
   "cell_type": "code",
   "execution_count": 37,
   "id": "5aeef771",
   "metadata": {},
   "outputs": [
    {
     "data": {
      "text/plain": [
       "6"
      ]
     },
     "execution_count": 37,
     "metadata": {},
     "output_type": "execute_result"
    }
   ],
   "source": [
    "len(num1)"
   ]
  },
  {
   "cell_type": "code",
   "execution_count": 47,
   "id": "4d0c2aa7",
   "metadata": {},
   "outputs": [
    {
     "name": "stdout",
     "output_type": "stream",
     "text": [
      "2\n"
     ]
    }
   ],
   "source": [
    "temp = 0\n",
    "counter = [0]\n",
    "for i in range(len(num2)):\n",
    "    #print(num1[i])\n",
    "    if num2[i] == 1:\n",
    "        temp = temp+1\n",
    "        #print(temp)\n",
    "        counter.append(temp)\n",
    "    else:\n",
    "        temp = 0\n",
    "        \n",
    "print(max(counter))\n",
    "#print(counter)"
   ]
  },
  {
   "cell_type": "code",
   "execution_count": 21,
   "id": "e443f046",
   "metadata": {},
   "outputs": [],
   "source": [
    "cs = [1,2,3,4,5,6]"
   ]
  },
  {
   "cell_type": "code",
   "execution_count": 25,
   "id": "e5c70ce2",
   "metadata": {},
   "outputs": [],
   "source": [
    "a = 8"
   ]
  },
  {
   "cell_type": "code",
   "execution_count": 26,
   "id": "da006f59",
   "metadata": {},
   "outputs": [],
   "source": [
    "cs.append(a)"
   ]
  },
  {
   "cell_type": "code",
   "execution_count": 27,
   "id": "6563f34e",
   "metadata": {},
   "outputs": [
    {
     "data": {
      "text/plain": [
       "[1, 2, 3, 4, 5, 6, 8]"
      ]
     },
     "execution_count": 27,
     "metadata": {},
     "output_type": "execute_result"
    }
   ],
   "source": [
    "cs"
   ]
  },
  {
   "cell_type": "code",
   "execution_count": null,
   "id": "ae54e43b",
   "metadata": {},
   "outputs": [],
   "source": []
  },
  {
   "cell_type": "code",
   "execution_count": 44,
   "id": "bf92fd89",
   "metadata": {},
   "outputs": [
    {
     "data": {
      "text/plain": [
       "[]"
      ]
     },
     "execution_count": 44,
     "metadata": {},
     "output_type": "execute_result"
    }
   ],
   "source": [
    "counter"
   ]
  },
  {
   "cell_type": "code",
   "execution_count": null,
   "id": "f4cb732c",
   "metadata": {},
   "outputs": [],
   "source": [
    "class Solution:\n",
    "    def findMaxConsecutiveOnes(self, nums: List[int]) -> int:\n",
    "        temp = 0\n",
    "        counter = [0]\n",
    "        for i in range(len(nums)):\n",
    "            if nums[i] == 1:\n",
    "                temp = temp+1\n",
    "                counter.append(temp)\n",
    "            else:\n",
    "                temp = 0\n",
    "        return max(counter)\n",
    "            "
   ]
  },
  {
   "cell_type": "markdown",
   "id": "dc4d85e3",
   "metadata": {},
   "source": [
    "### Find Numbers with Even Number of Digits"
   ]
  },
  {
   "cell_type": "code",
   "execution_count": 1,
   "id": "1a7578bc",
   "metadata": {},
   "outputs": [],
   "source": [
    "num1 = [12,345,2,6,7896]\n",
    "num2 = [555,901,482,1771]"
   ]
  },
  {
   "cell_type": "code",
   "execution_count": 26,
   "id": "cd78825f",
   "metadata": {},
   "outputs": [
    {
     "name": "stdout",
     "output_type": "stream",
     "text": [
      "2\n",
      "5\n",
      "6\n",
      "7\n",
      "11\n"
     ]
    }
   ],
   "source": [
    "count = 0\n",
    "digit = []\n",
    "for num in num1:\n",
    "    #print(num)\n",
    "    while num!=0:\n",
    "        num//=10\n",
    "        count+=1\n",
    "    print(count)"
   ]
  },
  {
   "cell_type": "code",
   "execution_count": 24,
   "id": "ab5ee230",
   "metadata": {},
   "outputs": [
    {
     "name": "stdout",
     "output_type": "stream",
     "text": [
      "2\n"
     ]
    }
   ],
   "source": [
    "c = 0\n",
    "n = 12\n",
    "while n!=0:\n",
    "    n//=10\n",
    "    c+=1\n",
    "print(c)"
   ]
  },
  {
   "cell_type": "code",
   "execution_count": 27,
   "id": "41e69a8a",
   "metadata": {},
   "outputs": [],
   "source": [
    "d = [2,3,1,1,4]"
   ]
  },
  {
   "cell_type": "code",
   "execution_count": 38,
   "id": "82dcf808",
   "metadata": {},
   "outputs": [
    {
     "name": "stdout",
     "output_type": "stream",
     "text": [
      "[2, 3, 1, 1, 4]\n"
     ]
    }
   ],
   "source": [
    "ds = []\n",
    "for n in num1:\n",
    "    ds.append(len(str(n)))\n",
    "print(ds)"
   ]
  },
  {
   "cell_type": "code",
   "execution_count": 39,
   "id": "9d7b4d7a",
   "metadata": {},
   "outputs": [
    {
     "data": {
      "text/plain": [
       "[2, 3, 1, 1, 4]"
      ]
     },
     "execution_count": 39,
     "metadata": {},
     "output_type": "execute_result"
    }
   ],
   "source": [
    "ds"
   ]
  },
  {
   "cell_type": "code",
   "execution_count": 40,
   "id": "298cae98",
   "metadata": {},
   "outputs": [
    {
     "name": "stdout",
     "output_type": "stream",
     "text": [
      "2\n",
      "4\n"
     ]
    }
   ],
   "source": [
    "for r in ds:\n",
    "    if r % 2 == 0:\n",
    "        print(r)"
   ]
  },
  {
   "cell_type": "code",
   "execution_count": 57,
   "id": "45514ea1",
   "metadata": {},
   "outputs": [
    {
     "name": "stdout",
     "output_type": "stream",
     "text": [
      "[2]\n",
      "[2, 3]\n",
      "[2, 3, 1]\n",
      "[2, 3, 1, 1]\n",
      "[2, 3, 1, 1, 4]\n",
      "2\n"
     ]
    }
   ],
   "source": [
    "cnt_store = []\n",
    "count = 0\n",
    "even = 0\n",
    "for num in num1:\n",
    "    #print(num)\n",
    "    while num!=0:\n",
    "        num//=10\n",
    "        count+=1\n",
    "    cnt_store.append(count)\n",
    "    #print(cnt_store)\n",
    "    count=0\n",
    "for n in cnt_store:\n",
    "    if n % 2 == 0:\n",
    "        even+=1\n",
    "print(even)"
   ]
  },
  {
   "cell_type": "code",
   "execution_count": 58,
   "id": "e0831850",
   "metadata": {},
   "outputs": [
    {
     "data": {
      "text/plain": [
       "[12, 345, 2, 6, 7896]"
      ]
     },
     "execution_count": 58,
     "metadata": {},
     "output_type": "execute_result"
    }
   ],
   "source": [
    "num1"
   ]
  },
  {
   "cell_type": "code",
   "execution_count": 61,
   "id": "790d3f7b",
   "metadata": {},
   "outputs": [
    {
     "name": "stdout",
     "output_type": "stream",
     "text": [
      "2\n"
     ]
    }
   ],
   "source": [
    "# First Solution\n",
    "\n",
    "class Solution:\n",
    "    def findNumbers(self, nums: List[int]) -> int:\n",
    "        cnt_store = []\n",
    "        count = 0\n",
    "        even = 0\n",
    "        for num in nums:\n",
    "            while num!=0:\n",
    "                num//=10\n",
    "                count+=1\n",
    "            cnt_store.append(count)\n",
    "            count=0\n",
    "        for n in cnt_store:\n",
    "            if n % 2 == 0:\n",
    "                even+=1\n",
    "        return even\n",
    "\n",
    "    "
   ]
  },
  {
   "cell_type": "code",
   "execution_count": null,
   "id": "fed898fc",
   "metadata": {},
   "outputs": [],
   "source": [
    "# Second Solution\n",
    "    \n",
    "    \n",
    "digit = []\n",
    "count = 0\n",
    "for num in num1:\n",
    "    digit.append(len(str(num)))\n",
    "for n in digit:\n",
    "    if n % 2 == 0:\n",
    "        count+=1\n",
    "print(count)"
   ]
  },
  {
   "cell_type": "code",
   "execution_count": null,
   "id": "2c305fd2",
   "metadata": {},
   "outputs": [],
   "source": [
    "# Submitted - Optimised Solution\n",
    "\n",
    "\n",
    "class Solution:\n",
    "    def findNumbers(self, nums: List[int]) -> int:\n",
    "        cnt = 0\n",
    "        for i in nums:\n",
    "            if (len(str(i))) % 2 == 0:\n",
    "                cnt+=1\n",
    "        return cnt\n"
   ]
  },
  {
   "cell_type": "markdown",
   "id": "5e9051cd",
   "metadata": {},
   "source": [
    "### Squares of a Sorted Array"
   ]
  },
  {
   "cell_type": "code",
   "execution_count": 65,
   "id": "4692f76f",
   "metadata": {},
   "outputs": [
    {
     "name": "stdout",
     "output_type": "stream",
     "text": [
      "[0, 1, 9, 16, 100]\n"
     ]
    }
   ],
   "source": [
    "nums = [-4,-1,0,3,10]\n",
    "sq = []\n",
    "for i in nums:\n",
    "    sq.append(i**2)\n",
    "print(sorted(sq))"
   ]
  },
  {
   "cell_type": "code",
   "execution_count": 66,
   "id": "e69bd2f5",
   "metadata": {},
   "outputs": [
    {
     "name": "stdout",
     "output_type": "stream",
     "text": [
      "[0, 1, 9, 16, 100]\n"
     ]
    }
   ],
   "source": [
    "print(sorted([n*n for n in nums]))"
   ]
  },
  {
   "cell_type": "code",
   "execution_count": null,
   "id": "0f9df476",
   "metadata": {},
   "outputs": [],
   "source": []
  }
 ],
 "metadata": {
  "kernelspec": {
   "display_name": "Python 3",
   "language": "python",
   "name": "python3"
  },
  "language_info": {
   "codemirror_mode": {
    "name": "ipython",
    "version": 3
   },
   "file_extension": ".py",
   "mimetype": "text/x-python",
   "name": "python",
   "nbconvert_exporter": "python",
   "pygments_lexer": "ipython3",
   "version": "3.8.10"
  }
 },
 "nbformat": 4,
 "nbformat_minor": 5
}
