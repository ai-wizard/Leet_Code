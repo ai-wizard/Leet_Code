{
 "cells": [
  {
   "cell_type": "markdown",
   "id": "a0150677",
   "metadata": {},
   "source": [
    "### Duplicate Zeros"
   ]
  },
  {
   "cell_type": "code",
   "execution_count": null,
   "id": "71a5dfa4",
   "metadata": {},
   "outputs": [],
   "source": [
    "arr = [1,0,2,3,0,4,5,0]"
   ]
  },
  {
   "cell_type": "code",
   "execution_count": null,
   "id": "cafba22a",
   "metadata": {},
   "outputs": [],
   "source": [
    "org = arr[:]\n",
    "i = j = 0\n",
    "n = len(arr)\n",
    "while j<n:\n",
    "    arr[j] = org[i]\n",
    "    j+=1\n",
    "    if org[i] == 0:\n",
    "        if j<n:\n",
    "            arr[j] = org[i]\n",
    "        j+=1\n",
    "    i+=1"
   ]
  },
  {
   "cell_type": "code",
   "execution_count": null,
   "id": "a316e470",
   "metadata": {},
   "outputs": [],
   "source": [
    "arr"
   ]
  },
  {
   "cell_type": "code",
   "execution_count": null,
   "id": "9e4590aa",
   "metadata": {},
   "outputs": [],
   "source": []
  },
  {
   "cell_type": "markdown",
   "id": "9cb1c3f4",
   "metadata": {},
   "source": [
    "### Merge Sorted Array"
   ]
  },
  {
   "cell_type": "code",
   "execution_count": null,
   "id": "35c72f2b",
   "metadata": {},
   "outputs": [],
   "source": [
    "nums1 = [1,2,3,0,0,0]\n",
    "nums2 = [2,5,6]"
   ]
  },
  {
   "cell_type": "code",
   "execution_count": null,
   "id": "6c1fa74e",
   "metadata": {},
   "outputs": [],
   "source": []
  },
  {
   "cell_type": "code",
   "execution_count": null,
   "id": "3a4fa8d4",
   "metadata": {},
   "outputs": [],
   "source": [
    "n = len(nums1)\n",
    "i = j = 0\n",
    "while i<n:\n",
    "    if nums1[i] != 0:\n",
    "        i+=1\n",
    "    else:\n",
    "        nums1[i] = nums2[j]\n",
    "        i+=1\n",
    "    j+=1\n"
   ]
  },
  {
   "cell_type": "code",
   "execution_count": null,
   "id": "75798196",
   "metadata": {},
   "outputs": [],
   "source": [
    "nums1"
   ]
  },
  {
   "cell_type": "code",
   "execution_count": 1,
   "id": "11eddf58",
   "metadata": {},
   "outputs": [],
   "source": [
    "nums1 = [1,2,3,0,0,0]\n",
    "nums2 = [2,5,6]"
   ]
  },
  {
   "cell_type": "code",
   "execution_count": null,
   "id": "ebba3021",
   "metadata": {},
   "outputs": [],
   "source": [
    "l = len(nums1)\n",
    "i = j = 0\n",
    "for i in range(l):\n",
    "    \n",
    "    if nums1[i] == 0:\n",
    "        \n",
    "        #nums1.append(nums2[j])\n",
    "        nums1.insert(i,nums2[j])\n",
    "        j+=1\n",
    "    i+=1\n",
    "\n",
    "        "
   ]
  },
  {
   "cell_type": "code",
   "execution_count": null,
   "id": "4b21923c",
   "metadata": {},
   "outputs": [],
   "source": [
    "nums1"
   ]
  },
  {
   "cell_type": "code",
   "execution_count": null,
   "id": "a43c8dc3",
   "metadata": {},
   "outputs": [],
   "source": [
    "# Working for 13 test cases\n",
    "\n",
    "l = len(nums1)\n",
    "i = j = 0\n",
    "while i<l:\n",
    "    \n",
    "    if nums1[i] == 0:\n",
    "        \n",
    "        #nums1.append(nums2[j])\n",
    "        nums1.pop(i)\n",
    "        nums1.insert(i,nums2[j])\n",
    "        j+=1\n",
    "    i+=1\n",
    "nums1.sort()"
   ]
  },
  {
   "cell_type": "code",
   "execution_count": null,
   "id": "d0e66d87",
   "metadata": {},
   "outputs": [],
   "source": [
    "nums1"
   ]
  },
  {
   "cell_type": "code",
   "execution_count": null,
   "id": "932d3cba",
   "metadata": {},
   "outputs": [],
   "source": [
    "nums1 = [-1,0,0,3,3,3,0,0,0]\n",
    "# len 6\n",
    "nums2 = [1,2,2]\n",
    "# len 3"
   ]
  },
  {
   "cell_type": "code",
   "execution_count": null,
   "id": "0040180e",
   "metadata": {},
   "outputs": [],
   "source": [
    "l = len(nums1)\n",
    "#print(l)\n",
    "i = j = 0\n",
    "for num in nums1:\n",
    "    print(num)\n",
    "    if nums1[i] == 0:\n",
    "        nums1.pop(i)\n",
    "        nums1.insert(i,nums2[j])\n",
    "        j+=1\n",
    "    i+=1\n",
    "nums1.sort()"
   ]
  },
  {
   "cell_type": "code",
   "execution_count": null,
   "id": "e4b3cbde",
   "metadata": {},
   "outputs": [],
   "source": []
  },
  {
   "cell_type": "code",
   "execution_count": null,
   "id": "d056ade7",
   "metadata": {},
   "outputs": [],
   "source": [
    "nums1 = [-1,0,0,3,3,3,0,0,0]\n",
    "nums2 = [1,2,2]\n",
    "m = len(nums1)\n",
    "n = len(nums2)\n",
    "l = m-n\n",
    "i = 0\n",
    "for num in nums1:\n",
    "    \n",
    "    if num == 0:\n",
    "        \n",
    "        nums1.pop(nums1.index(num))\n",
    "        nums1.insert(nums1.index(num),nums2[i])\n",
    "        i+=1\n",
    "        print(nums1)\n",
    "nums1.sort()"
   ]
  },
  {
   "cell_type": "code",
   "execution_count": null,
   "id": "cef0c237",
   "metadata": {},
   "outputs": [],
   "source": []
  },
  {
   "cell_type": "code",
   "execution_count": null,
   "id": "8c6d6fb4",
   "metadata": {},
   "outputs": [],
   "source": []
  },
  {
   "cell_type": "code",
   "execution_count": null,
   "id": "e9aed18d",
   "metadata": {},
   "outputs": [],
   "source": []
  },
  {
   "cell_type": "code",
   "execution_count": null,
   "id": "1cb2a2c2",
   "metadata": {},
   "outputs": [],
   "source": [
    "nums1 = [-1,0,0,3,3,3,0,0,0]\n",
    "nums2 = [1,2,2]\n",
    "m = len(nums1)\n",
    "\n",
    "n = len(nums2)\n",
    "\n",
    "l = m\n",
    "\n",
    "i = j = 0\n",
    "\n",
    "for num in nums1:\n",
    "    if num == 0:    \n",
    "        nums1.pop(nums1.index(num))\n",
    "        nums1.insert(nums1.index(num),nums2[i])\n",
    "        i+=1\n",
    "        print(nums1)"
   ]
  },
  {
   "cell_type": "code",
   "execution_count": null,
   "id": "4e36092b",
   "metadata": {},
   "outputs": [],
   "source": [
    "nums1 = [-1,0,0,3,3,3,0,0,0]\n",
    "nums2 = [1,2,2]\n",
    "m = len(nums1)\n",
    "n = len(nums2)\n",
    "#print(n)\n",
    "for i in nums1[::-1]:\n",
    "    while n<0:\n",
    "        print(n)\n",
    "        nums1.pop(i)\n",
    "print(nums1)"
   ]
  },
  {
   "cell_type": "code",
   "execution_count": null,
   "id": "c8db7da7",
   "metadata": {},
   "outputs": [],
   "source": [
    "a = [1,2,3]\n",
    "b = [1,2]\n",
    "\n",
    "lb = len(b)\n",
    "#print(lb)\n",
    "for i in a[::-1]:\n",
    "    print(i)\n",
    "    while :\n",
    "        a.pop(a.index())\n",
    "        #print(a)\n",
    "        lb+=1"
   ]
  },
  {
   "cell_type": "code",
   "execution_count": null,
   "id": "5c4c8028",
   "metadata": {},
   "outputs": [],
   "source": []
  },
  {
   "cell_type": "code",
   "execution_count": null,
   "id": "d3ffc57b",
   "metadata": {},
   "outputs": [],
   "source": []
  },
  {
   "cell_type": "code",
   "execution_count": null,
   "id": "95d728b6",
   "metadata": {},
   "outputs": [],
   "source": [
    "a = [56,32,21]\n",
    "i = 1\n",
    "while i<6:\n",
    "    print()\n",
    "    i+=1"
   ]
  },
  {
   "cell_type": "code",
   "execution_count": 10,
   "id": "29fa3f5f",
   "metadata": {},
   "outputs": [],
   "source": [
    "nums1 = [-1,0,0,3,3,3,0,0,0]\n",
    "nums2 = [1,2,2]\n",
    "\n",
    "m = len(nums1)\n",
    "#print(m)\n",
    "n = len(nums2)"
   ]
  },
  {
   "cell_type": "code",
   "execution_count": 2,
   "id": "e85c6e17",
   "metadata": {},
   "outputs": [],
   "source": [
    "m = len(nums1)\n",
    "#print(m)\n",
    "n = len(nums2)\n",
    "#print(n)\n",
    "l = m-n\n",
    "#print(l)\n",
    "j=0\n",
    "for i in reversed(range(m)):\n",
    "    #print(i)\n",
    "    if i>=l:\n",
    "        #print(i)\n",
    "        nums1.pop(i)\n",
    "        i-=1\n",
    "for num in nums2:\n",
    "    nums1.append(num)\n",
    "\n",
    "nums1.sort()"
   ]
  },
  {
   "cell_type": "code",
   "execution_count": 7,
   "id": "bbe35bd3",
   "metadata": {},
   "outputs": [
    {
     "data": {
      "text/plain": [
       "[-1, 0, 0, 1, 2, 2, 3, 3, 3]"
      ]
     },
     "execution_count": 7,
     "metadata": {},
     "output_type": "execute_result"
    }
   ],
   "source": [
    "nums1"
   ]
  },
  {
   "cell_type": "code",
   "execution_count": 5,
   "id": "0a26f3a0",
   "metadata": {},
   "outputs": [],
   "source": [
    "nums1[m:] = nums2[:n]\n",
    "nums1.sort()"
   ]
  },
  {
   "cell_type": "code",
   "execution_count": 6,
   "id": "bd9bd466",
   "metadata": {},
   "outputs": [
    {
     "data": {
      "text/plain": [
       "[-1, 0, 0, 1, 2, 2, 3, 3, 3]"
      ]
     },
     "execution_count": 6,
     "metadata": {},
     "output_type": "execute_result"
    }
   ],
   "source": [
    "nums1"
   ]
  },
  {
   "cell_type": "code",
   "execution_count": 11,
   "id": "29644408",
   "metadata": {},
   "outputs": [
    {
     "data": {
      "text/plain": [
       "[]"
      ]
     },
     "execution_count": 11,
     "metadata": {},
     "output_type": "execute_result"
    }
   ],
   "source": [
    "nums1[m:]"
   ]
  },
  {
   "cell_type": "code",
   "execution_count": 12,
   "id": "4ce0231e",
   "metadata": {},
   "outputs": [
    {
     "data": {
      "text/plain": [
       "[1, 2, 2]"
      ]
     },
     "execution_count": 12,
     "metadata": {},
     "output_type": "execute_result"
    }
   ],
   "source": [
    "nums2[:n]"
   ]
  },
  {
   "cell_type": "code",
   "execution_count": 16,
   "id": "3134e580",
   "metadata": {},
   "outputs": [
    {
     "data": {
      "text/plain": [
       "[3, 3, 0, 0, 0]"
      ]
     },
     "execution_count": 16,
     "metadata": {},
     "output_type": "execute_result"
    }
   ],
   "source": [
    "nums1[4:]"
   ]
  },
  {
   "cell_type": "code",
   "execution_count": 26,
   "id": "6c68257b",
   "metadata": {},
   "outputs": [
    {
     "name": "stdout",
     "output_type": "stream",
     "text": [
      "9\n",
      "3\n"
     ]
    }
   ],
   "source": [
    "a = [-1,0,0,3,3,3,0,0,0]\n",
    "b = [6,9,12]\n",
    "\n",
    "la = len(a)\n",
    "print(la)\n",
    "lb = len(b)\n",
    "print(lb)\n",
    "\n",
    "a[la:] = b[:lb]\n",
    "a.sort()"
   ]
  },
  {
   "cell_type": "code",
   "execution_count": null,
   "id": "515018ef",
   "metadata": {},
   "outputs": [],
   "source": []
  },
  {
   "cell_type": "code",
   "execution_count": null,
   "id": "793e92cf",
   "metadata": {},
   "outputs": [],
   "source": [
    "# Accepted Solution\n",
    "\n",
    "class Solution:\n",
    "    def merge(self, nums1: List[int], m: int, nums2: List[int], n: int) -> None:\n",
    "        \"\"\"\n",
    "        Do not return anything, modify nums1 in-place instead.\n",
    "        \"\"\"\n",
    "        m = len(nums1)\n",
    "        n = len(nums2)\n",
    "        l = m-n\n",
    "        j = 0\n",
    "        \n",
    "        for i in reversed(range(m)):\n",
    "            if i>=l:\n",
    "                nums1.pop(i)\n",
    "                i-=1\n",
    "        for num in nums2:\n",
    "            nums1.append(num)\n",
    "        nums1.sort()\n",
    "            "
   ]
  },
  {
   "cell_type": "code",
   "execution_count": null,
   "id": "c64755ff",
   "metadata": {},
   "outputs": [],
   "source": []
  }
 ],
 "metadata": {
  "kernelspec": {
   "display_name": "Python 3",
   "language": "python",
   "name": "python3"
  },
  "language_info": {
   "codemirror_mode": {
    "name": "ipython",
    "version": 3
   },
   "file_extension": ".py",
   "mimetype": "text/x-python",
   "name": "python",
   "nbconvert_exporter": "python",
   "pygments_lexer": "ipython3",
   "version": "3.8.10"
  }
 },
 "nbformat": 4,
 "nbformat_minor": 5
}
